{
 "cells": [
  {
   "cell_type": "markdown",
   "id": "6ac27da5",
   "metadata": {},
   "source": [
    "# Hello world"
   ]
  },
  {
   "cell_type": "code",
   "execution_count": 1,
   "id": "550e72b5",
   "metadata": {},
   "outputs": [
    {
     "name": "stdout",
     "output_type": "stream",
     "text": [
      "hello world\n",
      "hi\n"
     ]
    }
   ],
   "source": [
    "print('hello world')\n",
    "print(\"hi\")"
   ]
  },
  {
   "cell_type": "markdown",
   "id": "f7e6db42",
   "metadata": {},
   "source": [
    "# Variables"
   ]
  },
  {
   "cell_type": "code",
   "execution_count": 2,
   "id": "2fb55a6d",
   "metadata": {},
   "outputs": [
    {
     "data": {
      "text/plain": [
       "(float, 'This is a phrase', 3)"
      ]
     },
     "execution_count": 2,
     "metadata": {},
     "output_type": "execute_result"
    }
   ],
   "source": [
    "x = 3\n",
    "phrase = \"This is a phrase\"\n",
    "y = 5.4\n",
    "\n",
    "type(y), phrase, x"
   ]
  },
  {
   "cell_type": "markdown",
   "id": "94f5a29f",
   "metadata": {},
   "source": [
    "# IF, Else"
   ]
  },
  {
   "cell_type": "code",
   "execution_count": 112,
   "id": "ca535353",
   "metadata": {},
   "outputs": [
    {
     "name": "stdout",
     "output_type": "stream",
     "text": [
      "a greater than b\n"
     ]
    }
   ],
   "source": [
    "a = 4\n",
    "b = 3\n",
    "if a > b:\n",
    "    print(\"a greater than b\")"
   ]
  },
  {
   "cell_type": "markdown",
   "id": "3b619cce",
   "metadata": {},
   "source": [
    "# While Loop"
   ]
  },
  {
   "cell_type": "code",
   "execution_count": 113,
   "id": "87c49d08",
   "metadata": {},
   "outputs": [
    {
     "name": "stdout",
     "output_type": "stream",
     "text": [
      "1 2 3 4 5 6 7 8 9 10 11 12 13 14 15 16 17 18 19 20 21 22 23 24 25 26 27 28 29 30 31 32 33 34 35 36 37 38 39 40 41 42 43 44 45 46 47 48 49 50 51 52 53 54 55 56 57 58 59 60 61 62 63 64 65 66 67 68 69 70 71 72 73 74 75 76 77 78 79 80 81 82 83 84 85 86 87 88 89 90 91 92 93 94 95 96 97 98 99 "
     ]
    }
   ],
   "source": [
    "i = 1\n",
    "while i < 100:\n",
    "    print(i, end=' ')\n",
    "    i += 1\n"
   ]
  },
  {
   "cell_type": "markdown",
   "id": "106d033b",
   "metadata": {},
   "source": [
    "# For Loop"
   ]
  },
  {
   "cell_type": "code",
   "execution_count": 124,
   "id": "7f096f75",
   "metadata": {},
   "outputs": [
    {
     "name": "stdout",
     "output_type": "stream",
     "text": [
      "0 1 2 3 4 5 6 7 8 9 10 11 12 13 14 15 16 17 18 19 20 21 22 23 24 25 26 27 28 29 30 31 32 33 34 35 36 37 38 39 40 41 42 43 44 45 46 47 48 49 50 ---------\n",
      "[0, 1, 4, 9, 16, 25, 36, 49, 64, 81]\n",
      "---------\n",
      "0 2 4 6 8 10 12 14 16 18 20 22 24 26 28 30 32 34 36 38 40 42 44 46 48 50 52 54 56 58 60 62 64 66 68 70 72 74 76 78 80 82 84 86 88 90 92 94 96 98 \n",
      "---------\n",
      "0 1 2 3 4 5 6 7 8 9 10 11 12 13 14 15 16 17 18 19 20 21 22 23 24 25 26 27 28 29 30 31 32 33 34 35 36 37 38 39 40 41 42 43 44 45 46 47 48 49 50 51 52 53 54 55 56 57 58 59 60 61 62 63 64 65 66 67 68 69 70 71 72 73 74 75 76 77 78 79 80 81 82 83 84 85 86 87 88 89 90 91 92 93 94 95 96 97 98 99 Finished\n"
     ]
    }
   ],
   "source": [
    "for i in range(100):\n",
    "    print(i, end=' ')\n",
    "    if i == 50:\n",
    "        break\n",
    "\n",
    "print('---------')\n",
    "a = [i**2 for i in range(10)]\n",
    "print(a)\n",
    "\n",
    "print('---------')\n",
    "# Step\n",
    "for i in range(0, 100, 2):\n",
    "    print(i, end=' ')\n",
    "\n",
    "print('\\n---------')\n",
    "    \n",
    "# For else announces us that the loop has finished normally.\n",
    "for i in range(100):\n",
    "    print(i, end=' ')\n",
    "else:\n",
    "    print('Finished')"
   ]
  },
  {
   "cell_type": "markdown",
   "id": "117dada6",
   "metadata": {},
   "source": [
    "# Strings"
   ]
  },
  {
   "cell_type": "code",
   "execution_count": 27,
   "id": "a7efead6",
   "metadata": {},
   "outputs": [
    {
     "data": {
      "text/plain": [
       "' Machine Learning '"
      ]
     },
     "execution_count": 27,
     "metadata": {},
     "output_type": "execute_result"
    }
   ],
   "source": [
    "a = ' Machine Learning '\n",
    "a"
   ]
  },
  {
   "cell_type": "markdown",
   "id": "21c76826",
   "metadata": {},
   "source": [
    "## Strip"
   ]
  },
  {
   "cell_type": "code",
   "execution_count": 20,
   "id": "d9d88c8d",
   "metadata": {},
   "outputs": [
    {
     "name": "stdout",
     "output_type": "stream",
     "text": [
      "13 my name is {}\n"
     ]
    }
   ],
   "source": [
    "# Strip\n",
    "a = a.strip()\n",
    "print(len(a), a)"
   ]
  },
  {
   "cell_type": "markdown",
   "id": "d94dd09e",
   "metadata": {},
   "source": [
    "## Slicing"
   ]
  },
  {
   "cell_type": "code",
   "execution_count": 21,
   "id": "1d6e882b",
   "metadata": {},
   "outputs": [
    {
     "name": "stdout",
     "output_type": "stream",
     "text": [
      "my \n",
      "my name is {\n",
      "name is {}\n",
      "my n\n"
     ]
    }
   ],
   "source": [
    "# Slicing\n",
    "print(a[0:3])\n",
    "print(a[0:-1])\n",
    "print(a[3:])\n",
    "print(a[:4])"
   ]
  },
  {
   "cell_type": "markdown",
   "id": "d0c14a4a",
   "metadata": {},
   "source": [
    "## Replace"
   ]
  },
  {
   "cell_type": "code",
   "execution_count": null,
   "id": "f6e1527f",
   "metadata": {},
   "outputs": [],
   "source": [
    "# Replace\n",
    "a = a.replace('Machine', 'Reinforcement')\n",
    "print(a)"
   ]
  },
  {
   "cell_type": "markdown",
   "id": "1b825552",
   "metadata": {},
   "source": [
    "## Split"
   ]
  },
  {
   "cell_type": "code",
   "execution_count": null,
   "id": "13c4908d",
   "metadata": {},
   "outputs": [],
   "source": [
    "# Split\n",
    "b = a.split(' ')\n",
    "print(b)"
   ]
  },
  {
   "cell_type": "markdown",
   "id": "c542ebee",
   "metadata": {},
   "source": [
    "## Concat"
   ]
  },
  {
   "cell_type": "code",
   "execution_count": 22,
   "id": "ee9d4324",
   "metadata": {},
   "outputs": [
    {
     "name": "stdout",
     "output_type": "stream",
     "text": [
      "d:  my name is {}AI\n"
     ]
    }
   ],
   "source": [
    "# Concat\n",
    "c = 'AI'\n",
    "d = a + c\n",
    "print(\"d: \", d)"
   ]
  },
  {
   "cell_type": "markdown",
   "id": "de096a6d",
   "metadata": {},
   "source": [
    "## Format"
   ]
  },
  {
   "cell_type": "code",
   "execution_count": 30,
   "id": "85c43920",
   "metadata": {},
   "outputs": [
    {
     "name": "stdout",
     "output_type": "stream",
     "text": [
      "my name is amir and I am 22 years old.\n"
     ]
    }
   ],
   "source": [
    "a = \"my name is {1} and I am {0} years old.\"\n",
    "print(a.format('22', 'amir'))"
   ]
  },
  {
   "cell_type": "markdown",
   "id": "674ba7c7",
   "metadata": {},
   "source": [
    "## F string"
   ]
  },
  {
   "cell_type": "code",
   "execution_count": 31,
   "id": "af73759a",
   "metadata": {},
   "outputs": [
    {
     "name": "stdout",
     "output_type": "stream",
     "text": [
      "my name is amir and I am 22 years old.\n"
     ]
    }
   ],
   "source": [
    "name = 'amir'\n",
    "age = 22\n",
    "b = f\"my name is {name} and I am {age} years old.\"\n",
    "print(b)"
   ]
  },
  {
   "cell_type": "markdown",
   "id": "f6893ae3",
   "metadata": {},
   "source": [
    "# Boolean"
   ]
  },
  {
   "cell_type": "code",
   "execution_count": 37,
   "id": "ceb7014d",
   "metadata": {},
   "outputs": [
    {
     "name": "stdout",
     "output_type": "stream",
     "text": [
      "False\n",
      "True\n",
      "ex1:  True\n",
      "ex2:  False\n",
      "ex3:  False\n"
     ]
    }
   ],
   "source": [
    "# True or False\n",
    "\n",
    "a = True\n",
    "b = False\n",
    "\n",
    "print(a and b)\n",
    "print(a or b)\n",
    "\n",
    "num1 = 7\n",
    "num2 = 5\n",
    "\n",
    "ex1 = num1 > num2\n",
    "ex2 = num1 == num2\n",
    "ex3 = num1 < num2\n",
    "\n",
    "print(\"ex1: \", ex1)\n",
    "print(\"ex2: \", ex2)\n",
    "print(\"ex3: \", ex3)"
   ]
  },
  {
   "cell_type": "markdown",
   "id": "51904fb9",
   "metadata": {},
   "source": [
    "## Bitwise and, or"
   ]
  },
  {
   "cell_type": "code",
   "execution_count": 38,
   "id": "e1cd7a3d",
   "metadata": {},
   "outputs": [
    {
     "name": "stdout",
     "output_type": "stream",
     "text": [
      "0\n",
      "7\n"
     ]
    }
   ],
   "source": [
    "a = 5\n",
    "b = 2\n",
    "\n",
    "print(a & b)\n",
    "print(a | b)"
   ]
  },
  {
   "cell_type": "markdown",
   "id": "7babb786",
   "metadata": {},
   "source": [
    "## List"
   ]
  },
  {
   "cell_type": "code",
   "execution_count": 50,
   "id": "1be48419",
   "metadata": {},
   "outputs": [
    {
     "name": "stdout",
     "output_type": "stream",
     "text": [
      "England\n",
      "['England', 'Iran', 'USA', 'Wales']\n",
      "['England', 'Iran', 'United States of America', 'Wales']\n",
      "['England', 'Iran', 'United States of America', 'Wales', 'Group B']\n",
      "['England', 'Iran', 'United States of America', 'Wales']\n",
      "['England', 'Group B', 'Iran', 'United States of America', 'Wales']\n",
      "['England', 'Iran', 'United States of America', 'Wales']\n"
     ]
    }
   ],
   "source": [
    "list_a = ['England', 'Iran', 'USA', 'Wales']\n",
    "\n",
    "print(list_a[0])\n",
    "print(list_a[0:])\n",
    "list_a[2] = \"United States of America\"\n",
    "print(list_a)\n",
    "\n",
    "list_a.append('Group B')\n",
    "print(list_a)\n",
    "\n",
    "list_a.pop()\n",
    "print(list_a)\n",
    "\n",
    "list_a.insert(1, 'Group B')\n",
    "print(list_a)\n",
    "\n",
    "list_a.pop(1) # or \"Group B\"\n",
    "print(list_a)\n",
    "\n"
   ]
  },
  {
   "cell_type": "markdown",
   "id": "e9d8ee52",
   "metadata": {},
   "source": [
    "## Loop through list"
   ]
  },
  {
   "cell_type": "code",
   "execution_count": 58,
   "id": "79a33388",
   "metadata": {},
   "outputs": [
    {
     "name": "stdout",
     "output_type": "stream",
     "text": [
      "England\n",
      "Iran\n",
      "United States of America\n",
      "Wales\n",
      "---------\n",
      "England\n",
      "Iran\n",
      "United States of America\n",
      "Wales\n"
     ]
    }
   ],
   "source": [
    "for i in range(len(list_a)):\n",
    "    print(list_a[i])\n",
    "    \n",
    "print('---------')\n",
    "    \n",
    "for i in list_a:\n",
    "    print(i)\n"
   ]
  },
  {
   "cell_type": "markdown",
   "id": "4de6233a",
   "metadata": {},
   "source": [
    "## Sort list"
   ]
  },
  {
   "cell_type": "code",
   "execution_count": 64,
   "id": "ea2df7f7",
   "metadata": {},
   "outputs": [
    {
     "name": "stdout",
     "output_type": "stream",
     "text": [
      "[1, 2, 4, 5]\n",
      "[5, 4, 2, 1]\n",
      "[1, 2, 4, 5]\n"
     ]
    }
   ],
   "source": [
    "a = [2, 4, 1, 5]\n",
    "a.sort()\n",
    "print(a)\n",
    "\n",
    "# reverse\n",
    "a.sort(reverse=True)\n",
    "print(a)\n",
    "\n",
    "a.reverse()\n",
    "print(a)"
   ]
  },
  {
   "cell_type": "markdown",
   "id": "d2174e04",
   "metadata": {},
   "source": [
    "## Copy Lists"
   ]
  },
  {
   "cell_type": "code",
   "execution_count": 68,
   "id": "19dcd1a8",
   "metadata": {},
   "outputs": [
    {
     "name": "stdout",
     "output_type": "stream",
     "text": [
      "[1, 2, 3, 4]\n",
      "----------\n",
      "[3, 2, 3, 4]\n",
      "c is:  [3, 2, 3, 4]\n",
      "b is:  [4, 2, 3, 4]\n"
     ]
    }
   ],
   "source": [
    "a = [1, 2, 3, 4]\n",
    "\n",
    "# Wrong job\n",
    "b = a\n",
    "\n",
    "print(b)\n",
    "\n",
    "print('----------')\n",
    "\n",
    "a[0] = 3\n",
    "print(b)\n",
    "\n",
    "# Right job\n",
    "c = a.copy()\n",
    "\n",
    "a[0] = 4\n",
    "print(\"c is: \", c)\n",
    "print(\"b is: \", b)"
   ]
  },
  {
   "cell_type": "markdown",
   "id": "9e317480",
   "metadata": {},
   "source": [
    "## Tuples"
   ]
  },
  {
   "cell_type": "code",
   "execution_count": 76,
   "id": "e9690b7b",
   "metadata": {},
   "outputs": [
    {
     "name": "stdout",
     "output_type": "stream",
     "text": [
      "(1, 2, 3, 4, 5)\n"
     ]
    }
   ],
   "source": [
    "a = (1, 2, 3)\n",
    "a[0]\n",
    "\n",
    "# a[0] = 3 # error\n",
    "\n",
    "b = (4, 5)\n",
    "\n",
    "a += b\n",
    "print(a)"
   ]
  },
  {
   "cell_type": "markdown",
   "id": "47d1db93",
   "metadata": {},
   "source": [
    "## Sets"
   ]
  },
  {
   "cell_type": "code",
   "execution_count": 85,
   "id": "546fdd37",
   "metadata": {},
   "outputs": [
    {
     "name": "stdout",
     "output_type": "stream",
     "text": [
      "{'amir', 'ali'}\n",
      "amir\n",
      "ali\n",
      "{'amir', 'ali', 'mohammad'}\n",
      "-------\n",
      "{'amir', 'mohammad', 'hesam', 'hamid', 'ali'}\n",
      "{'mohammad', 'hesam', 'hamid', 'ali'}\n",
      "{'mohammad', 'hesam', 'hamid', 'ali'}\n",
      "{'mohammad', 'hesam', 'hamid', 'ali'}\n"
     ]
    }
   ],
   "source": [
    "a = {\"amir\", \"ali\", \"amir\", \"ali\"}\n",
    "print(a)\n",
    "\n",
    "for i in a:\n",
    "    print(i)\n",
    "    \n",
    "# add\n",
    "a.add(\"mohammad\")\n",
    "\n",
    "print(a)\n",
    "\n",
    "print('-------')\n",
    "\n",
    "# Update\n",
    "\n",
    "b = {\"hamid\", \"hesam\"}\n",
    "a.update(b)\n",
    "\n",
    "print(a)\n",
    "\n",
    "# Remove\n",
    "\n",
    "a.remove(\"amir\")\n",
    "print(a)\n",
    "\n",
    "# Join\n",
    "a.update(b)\n",
    "print(a)\n",
    "\n",
    "c = a.union(b)\n",
    "\n",
    "print(c)"
   ]
  },
  {
   "cell_type": "markdown",
   "id": "542b414a",
   "metadata": {},
   "source": [
    "## Dictionaries"
   ]
  },
  {
   "cell_type": "code",
   "execution_count": 111,
   "id": "51a07ef0",
   "metadata": {},
   "outputs": [
    {
     "name": "stdout",
     "output_type": "stream",
     "text": [
      "{'name': 'linoel messi', 'age': 35, 'club': 'PSG', 'Nation': 'ARG', 'best_friend': 'Aguero'}\n",
      "{'name': 'linoel messi', 'age': 35, 'club': 'PSG', 'Nation': 'ARG'}\n",
      "--------\n",
      "name\n",
      "age\n",
      "club\n",
      "Nation\n",
      "-------\n",
      "linoel messi\n",
      "35\n",
      "PSG\n",
      "ARG\n",
      "-------\n",
      "name :  linoel messi\n",
      "age :  35\n",
      "club :  PSG\n",
      "Nation :  ARG\n"
     ]
    }
   ],
   "source": [
    "di = {\n",
    "    \"name\": \"Messi\",\n",
    "    \"age\": 35,\n",
    "    \"club\": \"PSG\",\n",
    "    \"Nation\": \"ARG\",\n",
    "}\n",
    "\n",
    "di[\"name\"]\n",
    "\n",
    "# Keys\n",
    "di.keys()\n",
    "\n",
    "# Update\n",
    "di[\"name\"] = \"linoel messi\"\n",
    "di.update({\n",
    "    \"best_friend\": \"Aguero\"\n",
    "})\n",
    "\n",
    "print(di)\n",
    "\n",
    "# Remove\n",
    "di.pop(\"best_friend\")\n",
    "print(di)\n",
    "\n",
    "print('--------')\n",
    "\n",
    "# Loop\n",
    "\n",
    "# Through Keys\n",
    "for i in di.keys():\n",
    "    print(i)\n",
    "print('-------')    \n",
    "# Through Value\n",
    "for i in di.values():\n",
    "    print(i)\n",
    "print('-------')    \n",
    "# Through Boths\n",
    "for idx, val in di.items():\n",
    "    print(idx, \": \", val)"
   ]
  },
  {
   "cell_type": "markdown",
   "id": "7b5285b7",
   "metadata": {},
   "source": [
    "# Functions"
   ]
  },
  {
   "cell_type": "code",
   "execution_count": 152,
   "id": "0cdc59f3",
   "metadata": {},
   "outputs": [
    {
     "name": "stdout",
     "output_type": "stream",
     "text": [
      "6.4\n"
     ]
    }
   ],
   "source": [
    "def my_sum(a, b, c=3) -> int:\n",
    "    return a + b + c\n",
    "\n",
    "print(my_sum(1.4, 2))"
   ]
  },
  {
   "cell_type": "markdown",
   "id": "6d263a70",
   "metadata": {},
   "source": [
    "# Lambda"
   ]
  },
  {
   "cell_type": "code",
   "execution_count": 156,
   "id": "d1ae061d",
   "metadata": {},
   "outputs": [
    {
     "data": {
      "text/plain": [
       "5.0"
      ]
     },
     "execution_count": 156,
     "metadata": {},
     "output_type": "execute_result"
    }
   ],
   "source": [
    "import math\n",
    "power = lambda x, y : math.sqrt(x**2 + y**2)\n",
    "power(3, 4)"
   ]
  },
  {
   "cell_type": "markdown",
   "id": "a8244b96",
   "metadata": {},
   "source": [
    "# Try Except"
   ]
  },
  {
   "cell_type": "code",
   "execution_count": 170,
   "id": "337817ae",
   "metadata": {},
   "outputs": [
    {
     "name": "stdout",
     "output_type": "stream",
     "text": [
      "1\n",
      "2\n",
      "0.5\n",
      "with no error\n",
      "It always executes\n"
     ]
    }
   ],
   "source": [
    "a = input()\n",
    "b = input()\n",
    "\n",
    "try:\n",
    "    print(int(a) / int(b))\n",
    "except ArithmeticError:\n",
    "    raise Exception('b can not be zero')\n",
    "else:\n",
    "    print('with no error')\n",
    "finally:\n",
    "    print('It always executes')"
   ]
  },
  {
   "cell_type": "markdown",
   "id": "1702d91b",
   "metadata": {},
   "source": [
    "# Classes"
   ]
  },
  {
   "cell_type": "code",
   "execution_count": null,
   "id": "177b4fe2",
   "metadata": {},
   "outputs": [],
   "source": [
    "class Player:\n",
    "    def __init__(self, name, age, club):\n",
    "        self.name = name\n",
    "        self.age = age\n",
    "        self.club = club\n",
    "    \n",
    "    def get_club(self):\n",
    "        return f\"{self.name}'s club is {self.club}\"\n",
    "    \n",
    "p1 = Player(name='Messi', age=35, club='PSG')\n",
    "p1.get_club()"
   ]
  },
  {
   "cell_type": "markdown",
   "id": "36dfc678",
   "metadata": {},
   "source": [
    "# Inheritance"
   ]
  },
  {
   "cell_type": "code",
   "execution_count": 203,
   "id": "0b00f78f",
   "metadata": {},
   "outputs": [
    {
     "name": "stdout",
     "output_type": "stream",
     "text": [
      "Amir is 22 years old.\n",
      "Amir is 22 years old. and major is Computer Engineering\n"
     ]
    }
   ],
   "source": [
    "class Person:\n",
    "    def __init__(self, name, age):\n",
    "        self.name = name\n",
    "        self.age = age\n",
    "    \n",
    "    def __str__(self):\n",
    "        return f\"{self.name} is {self.age} years old.\"\n",
    "\n",
    "    \n",
    "p1 = Person(name='Amir', age=22)\n",
    "print(p1)\n",
    "\n",
    "\n",
    "class Student(Person):\n",
    "    def __init__(self, name, age, major):\n",
    "        super().__init__(name=name, age=age)\n",
    "        self.major = major\n",
    "    \n",
    "    def __str__(self):\n",
    "        return super().__str__() + f\" and major is {self.major}\"\n",
    "    \n",
    "s1 = Student(major='Computer Engineering', name=p1.name, age=p1.age)\n",
    "print(s1)"
   ]
  },
  {
   "cell_type": "code",
   "execution_count": 193,
   "id": "056d3f26",
   "metadata": {},
   "outputs": [
    {
     "data": {
      "text/plain": [
       "False"
      ]
     },
     "execution_count": 193,
     "metadata": {},
     "output_type": "execute_result"
    }
   ],
   "source": [
    "isinstance(p1, Student)"
   ]
  },
  {
   "cell_type": "code",
   "execution_count": null,
   "id": "b5baf08c",
   "metadata": {},
   "outputs": [],
   "source": []
  }
 ],
 "metadata": {
  "kernelspec": {
   "display_name": "Python 3 (ipykernel)",
   "language": "python",
   "name": "python3"
  },
  "language_info": {
   "codemirror_mode": {
    "name": "ipython",
    "version": 3
   },
   "file_extension": ".py",
   "mimetype": "text/x-python",
   "name": "python",
   "nbconvert_exporter": "python",
   "pygments_lexer": "ipython3",
   "version": "3.9.7"
  }
 },
 "nbformat": 4,
 "nbformat_minor": 5
}
